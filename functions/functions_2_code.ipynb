{
 "cells": [
  {
   "cell_type": "markdown",
   "metadata": {},
   "source": [
    "Start with this code already in the notebook"
   ]
  },
  {
   "cell_type": "code",
   "execution_count": 1,
   "metadata": {},
   "outputs": [
    {
     "name": "stdout",
     "output_type": "stream",
     "text": [
      "10.0\n"
     ]
    }
   ],
   "source": [
    "def double_it(number):\n",
    "    new_number = 2.0 * number\n",
    "    return new_number\n",
    "\n",
    "num = 5.0\n",
    "new_num = double_it(num)\n",
    "print(new_num)"
   ]
  },
  {
   "cell_type": "markdown",
   "metadata": {},
   "source": [
    "Run the function a few times to show that it works."
   ]
  },
  {
   "cell_type": "code",
   "execution_count": 2,
   "metadata": {},
   "outputs": [
    {
     "data": {
      "text/plain": [
       "6.0"
      ]
     },
     "execution_count": 2,
     "metadata": {},
     "output_type": "execute_result"
    }
   ],
   "source": [
    "num = 3.0\n",
    "double_it(num)"
   ]
  },
  {
   "cell_type": "markdown",
   "metadata": {},
   "source": [
    "Point out that because we haven't been \"catching\" the output our `new_num` variable isn't changing "
   ]
  },
  {
   "cell_type": "code",
   "execution_count": 3,
   "metadata": {},
   "outputs": [
    {
     "name": "stdout",
     "output_type": "stream",
     "text": [
      "10.0\n"
     ]
    }
   ],
   "source": [
    "print(new_num)"
   ]
  },
  {
   "cell_type": "markdown",
   "metadata": {},
   "source": [
    "Show that we need to make sure we catch the value that the function is returning if we want to be able to use it for something"
   ]
  },
  {
   "cell_type": "code",
   "execution_count": 4,
   "metadata": {},
   "outputs": [],
   "source": [
    "num = 3.0\n",
    "new_num = double_it(num)"
   ]
  },
  {
   "cell_type": "code",
   "execution_count": 5,
   "metadata": {},
   "outputs": [
    {
     "name": "stdout",
     "output_type": "stream",
     "text": [
      "6.0\n"
     ]
    }
   ],
   "source": [
    "print(new_num)"
   ]
  },
  {
   "cell_type": "markdown",
   "metadata": {},
   "source": [
    "Create a new function for multiplying numbers"
   ]
  },
  {
   "cell_type": "code",
   "execution_count": 19,
   "metadata": {},
   "outputs": [],
   "source": [
    "def multiply_them(number1, number2, number3):\n",
    "    new_number1 = number1 * 2\n",
    "    new_number2 = number2 * 3\n",
    "    new_number3 = number3 * 4\n",
    "    return new_number1, new_number2, new_number3"
   ]
  },
  {
   "cell_type": "markdown",
   "metadata": {},
   "source": [
    "Set up some code for testing it out"
   ]
  },
  {
   "cell_type": "code",
   "execution_count": 20,
   "metadata": {},
   "outputs": [
    {
     "name": "stdout",
     "output_type": "stream",
     "text": [
      "6 15.0 28\n"
     ]
    }
   ],
   "source": [
    "num1 = 3\n",
    "num2 = 5.0\n",
    "num3 = 7\n",
    "\n",
    "new_num1, new_num2, new_num3 = multiply_them(num1,num2,num3)\n",
    "\n",
    "print(new_num1,new_num2,new_num3)"
   ]
  },
  {
   "cell_type": "markdown",
   "metadata": {},
   "source": [
    "Show them that I can just directly pass in numbers as well."
   ]
  },
  {
   "cell_type": "code",
   "execution_count": 24,
   "metadata": {},
   "outputs": [
    {
     "name": "stdout",
     "output_type": "stream",
     "text": [
      "6 15.0 28\n"
     ]
    }
   ],
   "source": [
    "new_num1, new_num2, new_num3 = multiply_them(3,5.0,7)\n",
    "\n",
    "print(new_num1,new_num2,new_num3)"
   ]
  },
  {
   "cell_type": "markdown",
   "metadata": {},
   "source": [
    "**Important**: Include a note that I need to make sure I feed in the variables in the same order as they are defined in the function!!"
   ]
  },
  {
   "cell_type": "markdown",
   "metadata": {},
   "source": [
    "Rewrite the function so that it no longer returns anything, but simple prints the results"
   ]
  },
  {
   "cell_type": "code",
   "execution_count": 9,
   "metadata": {},
   "outputs": [],
   "source": [
    "def multiply_them(number1, number2, number3):\n",
    "    new_number1 = number1 * 2\n",
    "    new_number2 = number2 * 3\n",
    "    new_number3 = number3 * 4\n",
    "    print(new_number1, new_number2, new_number3)"
   ]
  },
  {
   "cell_type": "markdown",
   "metadata": {},
   "source": [
    "Copy and paste some code from above and try running it again to show that an error occurs."
   ]
  },
  {
   "cell_type": "code",
   "execution_count": 12,
   "metadata": {},
   "outputs": [
    {
     "name": "stdout",
     "output_type": "stream",
     "text": [
      "6 15.0 28\n"
     ]
    },
    {
     "ename": "TypeError",
     "evalue": "'NoneType' object is not iterable",
     "output_type": "error",
     "traceback": [
      "\u001b[0;31m---------------------------------------------------------------------------\u001b[0m",
      "\u001b[0;31mTypeError\u001b[0m                                 Traceback (most recent call last)",
      "\u001b[0;32m<ipython-input-12-de606ade1286>\u001b[0m in \u001b[0;36m<module>\u001b[0;34m()\u001b[0m\n\u001b[1;32m      3\u001b[0m \u001b[0mnum3\u001b[0m \u001b[0;34m=\u001b[0m \u001b[0;36m7\u001b[0m\u001b[0;34m\u001b[0m\u001b[0m\n\u001b[1;32m      4\u001b[0m \u001b[0;34m\u001b[0m\u001b[0m\n\u001b[0;32m----> 5\u001b[0;31m \u001b[0mnew_num1\u001b[0m\u001b[0;34m,\u001b[0m \u001b[0mnew_num2\u001b[0m\u001b[0;34m,\u001b[0m \u001b[0mnew_num3\u001b[0m \u001b[0;34m=\u001b[0m \u001b[0mcalculate_multiples\u001b[0m\u001b[0;34m(\u001b[0m\u001b[0mnum1\u001b[0m\u001b[0;34m,\u001b[0m\u001b[0mnum2\u001b[0m\u001b[0;34m,\u001b[0m\u001b[0mnum3\u001b[0m\u001b[0;34m)\u001b[0m\u001b[0;34m\u001b[0m\u001b[0m\n\u001b[0m",
      "\u001b[0;31mTypeError\u001b[0m: 'NoneType' object is not iterable"
     ]
    }
   ],
   "source": [
    "num1 = 3\n",
    "num2 = 5.0\n",
    "num3 = 7\n",
    "\n",
    "new_num1, new_num2, new_num3 = calculate_multiples(num1,num2,num3)"
   ]
  },
  {
   "cell_type": "markdown",
   "metadata": {},
   "source": [
    "Remove the variable assignment from above and then run it a few times with different numbers"
   ]
  },
  {
   "cell_type": "code",
   "execution_count": 14,
   "metadata": {},
   "outputs": [
    {
     "name": "stdout",
     "output_type": "stream",
     "text": [
      "6 15.0 28\n"
     ]
    }
   ],
   "source": [
    "num1 = 3\n",
    "num2 = 5.0\n",
    "num3 = 7\n",
    "\n",
    "calculate_multiples(num1,num2,num3)"
   ]
  },
  {
   "cell_type": "markdown",
   "metadata": {},
   "source": [
    "Show that all this time the original \"new_num\" values haven't changed"
   ]
  },
  {
   "cell_type": "code",
   "execution_count": 16,
   "metadata": {},
   "outputs": [
    {
     "name": "stdout",
     "output_type": "stream",
     "text": [
      "6 15.0 28\n"
     ]
    }
   ],
   "source": [
    "print(new_num1,new_num2,new_num3)"
   ]
  },
  {
   "cell_type": "markdown",
   "metadata": {},
   "source": [
    "Copy the original multiply function from above and then rename it with \"new\" added. Then modify it to include keyword arguments with default values."
   ]
  },
  {
   "cell_type": "code",
   "execution_count": 27,
   "metadata": {},
   "outputs": [],
   "source": [
    "def new_multiply_them(number1=1, number2=1, number3=1):\n",
    "    new_number1 = number1 * 2\n",
    "    new_number2 = number2 * 3\n",
    "    new_number3 = number3 * 4\n",
    "    return new_number1, new_number2, new_number3"
   ]
  },
  {
   "cell_type": "markdown",
   "metadata": {},
   "source": [
    "Show them that this new function doesn't require any inputs and will just use the defaults in that case"
   ]
  },
  {
   "cell_type": "code",
   "execution_count": 29,
   "metadata": {},
   "outputs": [
    {
     "name": "stdout",
     "output_type": "stream",
     "text": [
      "2 3 4\n"
     ]
    }
   ],
   "source": [
    "new_num1, new_num2, new_num3 = new_multiply_them() \n",
    "print(new_num1,new_num2,new_num3)"
   ]
  },
  {
   "cell_type": "markdown",
   "metadata": {},
   "source": [
    "Show them that I can still feed in a set of number in order as well as what happens if I only specify some of the numbers or if I just want to define a specific number"
   ]
  },
  {
   "cell_type": "code",
   "execution_count": 35,
   "metadata": {},
   "outputs": [
    {
     "name": "stdout",
     "output_type": "stream",
     "text": [
      "8 15 24\n"
     ]
    }
   ],
   "source": [
    "new_num1, new_num2, new_num3 = new_multiply_them(4,5,6) \n",
    "print(new_num1,new_num2,new_num3)"
   ]
  },
  {
   "cell_type": "code",
   "execution_count": 37,
   "metadata": {},
   "outputs": [
    {
     "name": "stdout",
     "output_type": "stream",
     "text": [
      "8 15 4\n"
     ]
    }
   ],
   "source": [
    "new_num1, new_num2, new_num3 = new_multiply_them(4,5)\n",
    "print(new_num1,new_num2,new_num3)"
   ]
  },
  {
   "cell_type": "code",
   "execution_count": 38,
   "metadata": {},
   "outputs": [
    {
     "name": "stdout",
     "output_type": "stream",
     "text": [
      "2 3 40\n"
     ]
    }
   ],
   "source": [
    "new_num1, new_num2, new_num3 = new_multiply_them(number3=10)\n",
    "print(new_num1,new_num2,new_num3)"
   ]
  },
  {
   "cell_type": "markdown",
   "metadata": {},
   "source": [
    "I can also feed them in out of order when I do it this way!"
   ]
  },
  {
   "cell_type": "code",
   "execution_count": 40,
   "metadata": {},
   "outputs": [
    {
     "name": "stdout",
     "output_type": "stream",
     "text": [
      "6 39 40\n"
     ]
    }
   ],
   "source": [
    "new_num1, new_num2, new_num3 = new_multiply_them(number3=10, number1=3,\n",
    "                                                 number2=13)\n",
    "print(new_num1,new_num2,new_num3)"
   ]
  },
  {
   "cell_type": "code",
   "execution_count": null,
   "metadata": {},
   "outputs": [],
   "source": []
  }
 ],
 "metadata": {
  "kernelspec": {
   "display_name": "Python 3",
   "language": "python",
   "name": "python3"
  },
  "language_info": {
   "codemirror_mode": {
    "name": "ipython",
    "version": 3
   },
   "file_extension": ".py",
   "mimetype": "text/x-python",
   "name": "python",
   "nbconvert_exporter": "python",
   "pygments_lexer": "ipython3",
   "version": "3.6.5"
  }
 },
 "nbformat": 4,
 "nbformat_minor": 2
}
