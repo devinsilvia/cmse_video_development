{
 "cells": [
  {
   "cell_type": "markdown",
   "metadata": {},
   "source": [
    "# Video(s) on Functions"
   ]
  },
  {
   "cell_type": "markdown",
   "metadata": {},
   "source": [
    "## Brainstorming notes\n",
    "\n",
    "* What is a function?\n",
    "* Why might we write a function?\n",
    "* How do we define a function?\n",
    "* What is the difference between `print`-ing vs. `return`-ing?\n",
    "* How do you \"catch\" the output of a function?\n",
    "* What the difference between arguments and keyword arguments?\n",
    "    - Why use one versus another?\n",
    "* What are the best practices for defining variables in function?\n",
    "    - Mention variable scope\n",
    "   "
   ]
  },
  {
   "cell_type": "markdown",
   "metadata": {},
   "source": [
    "---\n",
    "## Video 1: High-level video on the general utility of functions\n",
    "\n",
    "- Motivate why\n",
    "- provide examples"
   ]
  },
  {
   "cell_type": "markdown",
   "metadata": {},
   "source": [
    "---\n",
    "## Video 2: Go through the nuts and bolts of how we define functions\n",
    "\n",
    "- Explain `def`\n",
    "- Explain how to pass in arguments\n",
    "- Explains the different between printing and returning\n",
    "- Highlight how to catch output"
   ]
  },
  {
   "cell_type": "code",
   "execution_count": null,
   "metadata": {},
   "outputs": [],
   "source": []
  }
 ],
 "metadata": {
  "kernelspec": {
   "display_name": "Python 3",
   "language": "python",
   "name": "python3"
  },
  "language_info": {
   "codemirror_mode": {
    "name": "ipython",
    "version": 3
   },
   "file_extension": ".py",
   "mimetype": "text/x-python",
   "name": "python",
   "nbconvert_exporter": "python",
   "pygments_lexer": "ipython3",
   "version": "3.6.5"
  }
 },
 "nbformat": 4,
 "nbformat_minor": 2
}
