{
 "cells": [
  {
   "cell_type": "code",
   "execution_count": 1,
   "metadata": {},
   "outputs": [
    {
     "name": "stdout",
     "output_type": "stream",
     "text": [
      "10.0\n"
     ]
    }
   ],
   "source": [
    "def double_it(number):\n",
    "    new_number = 2.0 * number\n",
    "    return new_number\n",
    "\n",
    "num = 5.0\n",
    "new_num = double_it(num)\n",
    "print(new_num)"
   ]
  },
  {
   "cell_type": "code",
   "execution_count": 7,
   "metadata": {},
   "outputs": [
    {
     "name": "stdout",
     "output_type": "stream",
     "text": [
      "24.0\n"
     ]
    }
   ],
   "source": [
    "num = 12.0\n",
    "new_num = double_it(num)\n",
    "print(new_num)"
   ]
  },
  {
   "cell_type": "code",
   "execution_count": 10,
   "metadata": {},
   "outputs": [],
   "source": [
    "num = 30.0\n",
    "new_num = double_it(num)"
   ]
  },
  {
   "cell_type": "code",
   "execution_count": 11,
   "metadata": {},
   "outputs": [
    {
     "name": "stdout",
     "output_type": "stream",
     "text": [
      "60.0\n"
     ]
    }
   ],
   "source": [
    "print(new_num)"
   ]
  },
  {
   "cell_type": "code",
   "execution_count": 12,
   "metadata": {},
   "outputs": [],
   "source": [
    "def multiply_them(number1, number2, number3):\n",
    "    new_number1 = number1 * 2\n",
    "    new_number2 = number2 * 3\n",
    "    new_number3 = number3 * 4\n",
    "    return new_number1, new_number2, new_number3"
   ]
  },
  {
   "cell_type": "code",
   "execution_count": 13,
   "metadata": {},
   "outputs": [
    {
     "name": "stdout",
     "output_type": "stream",
     "text": [
      "6 15.0 28\n"
     ]
    }
   ],
   "source": [
    "num1 = 3\n",
    "num2 = 5.0\n",
    "num3 = 7\n",
    "\n",
    "new_num1, new_num2, new_num3 = multiply_them(num1, num2, num3)\n",
    "\n",
    "print(new_num1,new_num2,new_num3)"
   ]
  },
  {
   "cell_type": "code",
   "execution_count": 17,
   "metadata": {},
   "outputs": [
    {
     "name": "stdout",
     "output_type": "stream",
     "text": [
      "10 18.75 56\n"
     ]
    }
   ],
   "source": [
    "new_num1, new_num2, new_num3 = multiply_them(5, 6.25, 14)\n",
    "print(new_num1,new_num2,new_num3)"
   ]
  },
  {
   "cell_type": "code",
   "execution_count": 18,
   "metadata": {},
   "outputs": [],
   "source": [
    "def multiply_them(number1, number2, number3):\n",
    "    new_number1 = number1 * 2\n",
    "    new_number2 = number2 * 3\n",
    "    new_number3 = number3 * 4\n",
    "    print(new_number1, new_number2, new_number3)"
   ]
  },
  {
   "cell_type": "code",
   "execution_count": 20,
   "metadata": {},
   "outputs": [
    {
     "name": "stdout",
     "output_type": "stream",
     "text": [
      "6 15.0 28\n"
     ]
    }
   ],
   "source": [
    "num1 = 3\n",
    "num2 = 5.0\n",
    "num3 = 7\n",
    "\n",
    "multiply_them(num1, num2, num3)"
   ]
  },
  {
   "cell_type": "code",
   "execution_count": 21,
   "metadata": {},
   "outputs": [
    {
     "name": "stdout",
     "output_type": "stream",
     "text": [
      "10 18.75 56\n"
     ]
    }
   ],
   "source": [
    "print(new_num1,new_num2,new_num3)"
   ]
  },
  {
   "cell_type": "code",
   "execution_count": 23,
   "metadata": {},
   "outputs": [],
   "source": [
    "def new_multiply_them(number1=1, number2=1, number3=1):\n",
    "    new_number1 = number1 * 2\n",
    "    new_number2 = number2 * 3\n",
    "    new_number3 = number3 * 4\n",
    "    return new_number1, new_number2, new_number3"
   ]
  },
  {
   "cell_type": "code",
   "execution_count": 24,
   "metadata": {},
   "outputs": [
    {
     "name": "stdout",
     "output_type": "stream",
     "text": [
      "2 3 4\n"
     ]
    }
   ],
   "source": [
    "new_num1, new_num2, new_num3 = new_multiply_them()\n",
    "print(new_num1,new_num2,new_num3)"
   ]
  },
  {
   "cell_type": "code",
   "execution_count": 27,
   "metadata": {},
   "outputs": [
    {
     "name": "stdout",
     "output_type": "stream",
     "text": [
      "8 15 4\n"
     ]
    }
   ],
   "source": [
    "new_num1, new_num2, new_num3 = new_multiply_them(4,5)\n",
    "print(new_num1,new_num2,new_num3)"
   ]
  },
  {
   "cell_type": "code",
   "execution_count": 31,
   "metadata": {},
   "outputs": [
    {
     "name": "stdout",
     "output_type": "stream",
     "text": [
      "2 3 24\n"
     ]
    }
   ],
   "source": [
    "new_num1, new_num2, new_num3 = new_multiply_them(number3=6)\n",
    "print(new_num1,new_num2,new_num3)"
   ]
  },
  {
   "cell_type": "code",
   "execution_count": 32,
   "metadata": {},
   "outputs": [
    {
     "name": "stdout",
     "output_type": "stream",
     "text": [
      "8 15 24\n"
     ]
    }
   ],
   "source": [
    "new_num1, new_num2, new_num3 = new_multiply_them(number3=6,number1=4,\n",
    "                                                number2=5)\n",
    "print(new_num1,new_num2,new_num3)"
   ]
  },
  {
   "cell_type": "code",
   "execution_count": null,
   "metadata": {},
   "outputs": [],
   "source": []
  }
 ],
 "metadata": {
  "kernelspec": {
   "display_name": "Python 3",
   "language": "python",
   "name": "python3"
  },
  "language_info": {
   "codemirror_mode": {
    "name": "ipython",
    "version": 3
   },
   "file_extension": ".py",
   "mimetype": "text/x-python",
   "name": "python",
   "nbconvert_exporter": "python",
   "pygments_lexer": "ipython3",
   "version": "3.6.5"
  }
 },
 "nbformat": 4,
 "nbformat_minor": 2
}
